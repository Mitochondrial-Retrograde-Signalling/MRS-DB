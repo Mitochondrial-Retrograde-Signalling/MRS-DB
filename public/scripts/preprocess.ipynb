{
 "cells": [
  {
   "cell_type": "code",
   "execution_count": 1,
   "id": "ebdde9c9",
   "metadata": {
    "execution": {
     "iopub.execute_input": "2025-04-02T01:46:57.173428Z",
     "iopub.status.busy": "2025-04-02T01:46:57.172919Z",
     "iopub.status.idle": "2025-04-02T01:46:57.180072Z",
     "shell.execute_reply": "2025-04-02T01:46:57.178829Z"
    },
    "papermill": {
     "duration": 0.0141,
     "end_time": "2025-04-02T01:46:57.181517",
     "exception": false,
     "start_time": "2025-04-02T01:46:57.167417",
     "status": "completed"
    },
    "tags": [
     "injected-parameters"
    ]
   },
   "outputs": [],
   "source": [
    "# Parameters\n",
    "filename = \"6h\"\n"
   ]
  },
  {
   "cell_type": "code",
   "execution_count": 2,
   "id": "ebd0880b",
   "metadata": {
    "execution": {
     "iopub.execute_input": "2025-04-02T01:46:57.189313Z",
     "iopub.status.busy": "2025-04-02T01:46:57.189023Z",
     "iopub.status.idle": "2025-04-02T01:46:57.597418Z",
     "shell.execute_reply": "2025-04-02T01:46:57.596864Z"
    },
    "papermill": {
     "duration": 0.414186,
     "end_time": "2025-04-02T01:46:57.598436",
     "exception": false,
     "start_time": "2025-04-02T01:46:57.184250",
     "status": "completed"
    },
    "tags": []
   },
   "outputs": [],
   "source": [
    "import pandas as pd\n",
    "import json\n",
    "import re\n",
    "from collections import defaultdict"
   ]
  },
  {
   "cell_type": "code",
   "execution_count": 3,
   "id": "89c45867",
   "metadata": {
    "execution": {
     "iopub.execute_input": "2025-04-02T01:46:57.604122Z",
     "iopub.status.busy": "2025-04-02T01:46:57.603824Z",
     "iopub.status.idle": "2025-04-02T01:46:57.607831Z",
     "shell.execute_reply": "2025-04-02T01:46:57.606662Z"
    },
    "papermill": {
     "duration": 0.009777,
     "end_time": "2025-04-02T01:46:57.610617",
     "exception": false,
     "start_time": "2025-04-02T01:46:57.600840",
     "status": "completed"
    },
    "tags": []
   },
   "outputs": [],
   "source": [
    "#filename = '6h'"
   ]
  },
  {
   "cell_type": "code",
   "execution_count": 4,
   "id": "12b00e71",
   "metadata": {
    "execution": {
     "iopub.execute_input": "2025-04-02T01:46:57.617731Z",
     "iopub.status.busy": "2025-04-02T01:46:57.617000Z",
     "iopub.status.idle": "2025-04-02T01:46:57.897834Z",
     "shell.execute_reply": "2025-04-02T01:46:57.896650Z"
    },
    "papermill": {
     "duration": 0.286128,
     "end_time": "2025-04-02T01:46:57.899006",
     "exception": false,
     "start_time": "2025-04-02T01:46:57.612878",
     "status": "completed"
    },
    "tags": []
   },
   "outputs": [
    {
     "name": "stdout",
     "output_type": "stream",
     "text": [
      "DEGs-all\n",
      "SPD\n",
      "MITO\n",
      "Plastids\n",
      "TF family\n"
     ]
    }
   ],
   "source": [
    "excel_path = 'public/data/raw/' + filename + '.xlsx'\n",
    "xlsx = pd.ExcelFile(excel_path)\n",
    "\n",
    "for sheet_name in xlsx.sheet_names:\n",
    "    print(sheet_name)"
   ]
  },
  {
   "cell_type": "code",
   "execution_count": 5,
   "id": "b44359fe",
   "metadata": {
    "execution": {
     "iopub.execute_input": "2025-04-02T01:46:57.907729Z",
     "iopub.status.busy": "2025-04-02T01:46:57.907394Z",
     "iopub.status.idle": "2025-04-02T01:46:57.911667Z",
     "shell.execute_reply": "2025-04-02T01:46:57.911014Z"
    },
    "papermill": {
     "duration": 0.013302,
     "end_time": "2025-04-02T01:46:57.915501",
     "exception": false,
     "start_time": "2025-04-02T01:46:57.902199",
     "status": "completed"
    },
    "tags": []
   },
   "outputs": [],
   "source": [
    "# Sheets to exclude\n",
    "exclude_sheet = 'all DEGs'\n",
    "\n",
    "# Columns to include in \"Details\"\n",
    "details_keys = [\n",
    "    \"Significantly expressed in NO. of clusters\",\n",
    "    \"GeneName\",\n",
    "    \"Description\",\n",
    "    \"TF family\"\n",
    "]"
   ]
  },
  {
   "cell_type": "code",
   "execution_count": 6,
   "id": "98bc9f6f",
   "metadata": {
    "execution": {
     "iopub.execute_input": "2025-04-02T01:46:57.919625Z",
     "iopub.status.busy": "2025-04-02T01:46:57.919407Z",
     "iopub.status.idle": "2025-04-02T01:46:57.923200Z",
     "shell.execute_reply": "2025-04-02T01:46:57.922512Z"
    },
    "papermill": {
     "duration": 0.006804,
     "end_time": "2025-04-02T01:46:57.924153",
     "exception": false,
     "start_time": "2025-04-02T01:46:57.917349",
     "status": "completed"
    },
    "tags": []
   },
   "outputs": [],
   "source": [
    "# Expression-level headers in order\n",
    "expression_categories = [\n",
    "    \"Mesophyll\",\n",
    "    \"Leaf pavement cell\",\n",
    "    \"Phloem parenchyma\",\n",
    "    \"Epidermis\",\n",
    "    \"Xylem\",\n",
    "    \"G2/M phase\",\n",
    "    \"Companion cell\",\n",
    "    \"S phase\",\n",
    "    \"Leaf guard cell\",\n",
    "    \"Unknown\"\n",
    "]"
   ]
  },
  {
   "cell_type": "code",
   "execution_count": 7,
   "id": "313de6be",
   "metadata": {
    "execution": {
     "iopub.execute_input": "2025-04-02T01:46:57.927799Z",
     "iopub.status.busy": "2025-04-02T01:46:57.927416Z",
     "iopub.status.idle": "2025-04-02T01:46:57.930480Z",
     "shell.execute_reply": "2025-04-02T01:46:57.929915Z"
    },
    "papermill": {
     "duration": 0.005611,
     "end_time": "2025-04-02T01:46:57.931201",
     "exception": false,
     "start_time": "2025-04-02T01:46:57.925590",
     "status": "completed"
    },
    "tags": []
   },
   "outputs": [],
   "source": [
    "# Dictionary to store sheet data\n",
    "output = {}"
   ]
  },
  {
   "cell_type": "code",
   "execution_count": 8,
   "id": "abbe95d2",
   "metadata": {
    "execution": {
     "iopub.execute_input": "2025-04-02T01:46:57.934736Z",
     "iopub.status.busy": "2025-04-02T01:46:57.934561Z",
     "iopub.status.idle": "2025-04-02T01:47:02.065089Z",
     "shell.execute_reply": "2025-04-02T01:47:02.063327Z"
    },
    "papermill": {
     "duration": 4.134222,
     "end_time": "2025-04-02T01:47:02.066648",
     "exception": false,
     "start_time": "2025-04-02T01:46:57.932426",
     "status": "completed"
    },
    "tags": []
   },
   "outputs": [
    {
     "name": "stdout",
     "output_type": "stream",
     "text": [
      "⚠️ GeneID or Genenotype column not found in DEGs-all\n",
      "⚠️ GeneID or Genenotype column not found in SPD\n"
     ]
    },
    {
     "name": "stdout",
     "output_type": "stream",
     "text": [
      "⚠️ GeneID or Genenotype column not found in MITO\n"
     ]
    },
    {
     "name": "stdout",
     "output_type": "stream",
     "text": [
      "⚠️ GeneID or Genenotype column not found in Plastids\n"
     ]
    },
    {
     "name": "stdout",
     "output_type": "stream",
     "text": [
      "⚠️ GeneID or Genenotype column not found in TF family\n"
     ]
    }
   ],
   "source": [
    "for sheet_name in xlsx.sheet_names:\n",
    "    if sheet_name == 'all DEGs':\n",
    "        continue\n",
    "\n",
    "    df = pd.read_excel(excel_path, sheet_name=sheet_name, header=[0, 1])\n",
    "    df.columns = pd.MultiIndex.from_tuples([\n",
    "        (str(a).strip(), str(b).strip()) for a, b in df.columns\n",
    "    ])\n",
    "\n",
    "    # Find GeneID and Genenotype columns\n",
    "    geneid_col = next((col for col in df.columns if 'geneid' in (col[0].lower(), col[1].lower())), None)\n",
    "    genotype_col = next((col for col in df.columns if 'genenotype' in (col[0].lower(), col[1].lower())), None)\n",
    "\n",
    "    if not geneid_col or not genotype_col:\n",
    "        print(f\"⚠️ GeneID or Genenotype column not found in {sheet_name}\")\n",
    "        continue\n",
    "\n",
    "    sheet_data = {}\n",
    "    for _, row in df.iterrows():\n",
    "        gene_id = row[geneid_col]\n",
    "        genotype = row[genotype_col]\n",
    "\n",
    "        if pd.isna(gene_id) or pd.isna(genotype):\n",
    "            continue\n",
    "\n",
    "        gene_id = str(gene_id)\n",
    "        genotype = str(genotype)\n",
    "\n",
    "        if gene_id not in sheet_data:\n",
    "            sheet_data[gene_id] = {\n",
    "                \"Details\": {}\n",
    "            }\n",
    "\n",
    "        # Extract Details (only once per GeneID)\n",
    "        if not sheet_data[gene_id][\"Details\"]:\n",
    "            details = {}\n",
    "            for key in details_keys:\n",
    "                matching_col = next((col for col in df.columns if col[1] == key), None)\n",
    "                if matching_col and matching_col in row:\n",
    "                    details[key] = row[matching_col]\n",
    "            sheet_data[gene_id][\"Details\"] = details\n",
    "\n",
    "        # Extract grouped expression data\n",
    "        expression_by_category = {}\n",
    "        for category in expression_categories:\n",
    "            group_data = {\n",
    "                col[1]: row[col]\n",
    "                for col in df.columns\n",
    "                if col[0] == category and pd.notna(row[col])\n",
    "            }\n",
    "            if group_data:\n",
    "                expression_by_category[category] = group_data\n",
    "\n",
    "        # Add under the genotype level\n",
    "        sheet_data[gene_id][genotype] = expression_by_category\n",
    "\n",
    "    output[sheet_name] = sheet_data\n"
   ]
  },
  {
   "cell_type": "code",
   "execution_count": 9,
   "id": "4abf60d9",
   "metadata": {
    "execution": {
     "iopub.execute_input": "2025-04-02T01:47:02.078468Z",
     "iopub.status.busy": "2025-04-02T01:47:02.077941Z",
     "iopub.status.idle": "2025-04-02T01:47:02.083610Z",
     "shell.execute_reply": "2025-04-02T01:47:02.083109Z"
    },
    "papermill": {
     "duration": 0.014215,
     "end_time": "2025-04-02T01:47:02.084928",
     "exception": false,
     "start_time": "2025-04-02T01:47:02.070713",
     "status": "completed"
    },
    "tags": []
   },
   "outputs": [
    {
     "name": "stdout",
     "output_type": "stream",
     "text": [
      "✅ JSON file created at: public/data/processed/6h.json\n"
     ]
    }
   ],
   "source": [
    "\n",
    "# Save JSON\n",
    "json_path = 'public/data/processed/' + filename + '.json'\n",
    "with open(json_path, 'w', encoding='utf-8') as f:\n",
    "    json.dump(output, f, indent=4, ensure_ascii=False)\n",
    "\n",
    "print(f\"✅ JSON file created at: {json_path}\")"
   ]
  }
 ],
 "metadata": {
  "kernelspec": {
   "display_name": "base",
   "language": "python",
   "name": "python3"
  },
  "language_info": {
   "codemirror_mode": {
    "name": "ipython",
    "version": 3
   },
   "file_extension": ".py",
   "mimetype": "text/x-python",
   "name": "python",
   "nbconvert_exporter": "python",
   "pygments_lexer": "ipython3",
   "version": "3.12.2"
  },
  "papermill": {
   "default_parameters": {},
   "duration": 6.250978,
   "end_time": "2025-04-02T01:47:02.507050",
   "environment_variables": {},
   "exception": null,
   "input_path": "public/scripts/preprocess.ipynb",
   "output_path": "public/scripts/preprocess.ipynb",
   "parameters": {
    "filename": "6h"
   },
   "start_time": "2025-04-02T01:46:56.256072",
   "version": "2.6.0"
  }
 },
 "nbformat": 4,
 "nbformat_minor": 5
}