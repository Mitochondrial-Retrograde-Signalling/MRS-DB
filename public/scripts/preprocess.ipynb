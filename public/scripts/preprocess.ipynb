{
 "cells": [
  {
   "cell_type": "code",
   "execution_count": 1,
   "metadata": {},
   "outputs": [],
   "source": [
    "import pandas as pd\n",
    "import json\n",
    "import re\n",
    "from collections import defaultdict"
   ]
  },
  {
   "cell_type": "code",
   "execution_count": 2,
   "metadata": {},
   "outputs": [
    {
     "name": "stdout",
     "output_type": "stream",
     "text": [
      "3\n",
      "6\n",
      "9\n",
      "12\n"
     ]
    }
   ],
   "source": [
    "excel_path = '../data/test_data_v2.xlsx'\n",
    "xlsx = pd.ExcelFile(excel_path)\n",
    "\n",
    "for sheet_name in xlsx.sheet_names:\n",
    "    print(sheet_name)"
   ]
  },
  {
   "cell_type": "code",
   "execution_count": 3,
   "metadata": {},
   "outputs": [],
   "source": [
    "# Define a function to parse each sheet\n",
    "def parse_sheet(df):\n",
    "    result = defaultdict(lambda: defaultdict(dict))\n",
    "\n",
    "    # Identify all columns related to expression values\n",
    "    expr_cols = [col for col in df.columns if 'log2FC_cluster' in col]\n",
    "\n",
    "    # Loop through each row in the sheet\n",
    "    for _, row in df.iterrows():\n",
    "        organelle = row[\"Organelle\"]\n",
    "        genotype = row[\"Genotype\"]\n",
    "        num_clusters = row[\"Significantly expressed in NO. of clusters\"]\n",
    "\n",
    "        # Build Gene Info dictionary\n",
    "        gene_info = {\n",
    "            \"Name\": row[\"GeneName\"],\n",
    "            \"Description\": row[\"Description\"],\n",
    "            \"TF Family\": row[\"TF Family\"]  # You can change/remove this if needed\n",
    "        }\n",
    "\n",
    "        # Create the main gene entry\n",
    "        gene_entry = {\n",
    "            \"Gene Info\": gene_info,\n",
    "            \"Number of cluster Significantly expressed\": num_clusters,\n",
    "            \"Cell type\": defaultdict(dict)\n",
    "        }\n",
    "\n",
    "        # Loop through expression columns to extract values\n",
    "        for col in expr_cols:\n",
    "            parts = col.split(\"|\")\n",
    "            if len(parts) < 2:\n",
    "                continue\n",
    "\n",
    "            cell_type = parts[0].strip()\n",
    "            cluster_match = re.search(r\"log2FC_cluster\\s*(\\d+)\", col)\n",
    "            if cluster_match:\n",
    "                cluster = cluster_match.group(1)\n",
    "                expression_value = row[col]\n",
    "                gene_entry[\"Cell type\"][cell_type][f\"Cluster {cluster}\"] = expression_value\n",
    "\n",
    "        # Nest entries into organelle → genotype\n",
    "        result[organelle][genotype][row[\"GeneID\"]] = gene_entry\n",
    "\n",
    "    return result"
   ]
  },
  {
   "cell_type": "code",
   "execution_count": 4,
   "metadata": {},
   "outputs": [],
   "source": [
    "# Build the final JSON from all sheets\n",
    "final_json = {}\n",
    "for sheet_name in xlsx.sheet_names:\n",
    "    df = xlsx.parse(sheet_name)\n",
    "    final_json[sheet_name] = parse_sheet(df)"
   ]
  },
  {
   "cell_type": "code",
   "execution_count": 5,
   "metadata": {},
   "outputs": [],
   "source": [
    "# Export to JSON file\n",
    "output_path = \"../data/test_data.json\"\n",
    "with open(output_path, \"w\") as f:\n",
    "    json.dump(final_json, f, indent=2)"
   ]
  }
 ],
 "metadata": {
  "kernelspec": {
   "display_name": "base",
   "language": "python",
   "name": "python3"
  },
  "language_info": {
   "codemirror_mode": {
    "name": "ipython",
    "version": 3
   },
   "file_extension": ".py",
   "mimetype": "text/x-python",
   "name": "python",
   "nbconvert_exporter": "python",
   "pygments_lexer": "ipython3",
   "version": "3.12.2"
  }
 },
 "nbformat": 4,
 "nbformat_minor": 2
}
